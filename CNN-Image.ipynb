{
 "cells": [
  {
   "cell_type": "code",
   "execution_count": 2,
   "metadata": {},
   "outputs": [],
   "source": [
    "import tensorflow as tf\n",
    "from tensorflow.keras.models import Model\n",
    "from tensorflow.keras.layers import Flatten, Dense, Dropout, BatchNormalization, GlobalAveragePooling2D\n",
    "from tensorflow.keras.applications import VGG16\n",
    "from sklearn.model_selection import train_test_split\n",
    "import numpy as np\n",
    "import os\n",
    "from tensorflow.keras.callbacks import EarlyStopping, ReduceLROnPlateau\n"
   ]
  },
  {
   "cell_type": "code",
   "execution_count": 2,
   "metadata": {},
   "outputs": [],
   "source": [
    "# Set paths for AI and real images\n",
    "ai_data_path = \"/\"\"\"give your path here\"\"\"\"\"\"/ \"      # Path to AI-generated images\n",
    "real_data_path = \"/\"\"\"give your path here\"\"\"\"\"\"/\"  # Path to real images"
   ]
  },
  {
   "cell_type": "code",
   "execution_count": 3,
   "metadata": {},
   "outputs": [],
   "source": [
    "# Load and preprocess image data \n",
    "def load_images(ai_data_path, real_data_path, img_size=(224, 224)):\n",
    "    images = []\n",
    "    labels = []\n",
    "    \n",
    "    # Load real images and label them as 0\n",
    "    for img_file in os.listdir(real_data_path):\n",
    "        img_path = os.path.join(real_data_path, img_file)\n",
    "        img = tf.keras.preprocessing.image.load_img(img_path, target_size=img_size)\n",
    "        img_array = tf.keras.preprocessing.image.img_to_array(img) / 255.0\n",
    "        images.append(img_array)\n",
    "        labels.append(0)\n",
    "    \n",
    "    # Load AI-generated images and label them as 1\n",
    "    for img_file in os.listdir(ai_data_path):\n",
    "        img_path = os.path.join(ai_data_path, img_file)\n",
    "        img = tf.keras.preprocessing.image.load_img(img_path, target_size=img_size)\n",
    "        img_array = tf.keras.preprocessing.image.img_to_array(img) / 255.0\n",
    "        images.append(img_array)\n",
    "        labels.append(1)\n",
    "    \n",
    "    return np.array(images), np.array(labels)\n"
   ]
  },
  {
   "cell_type": "code",
   "execution_count": 4,
   "metadata": {},
   "outputs": [],
   "source": [
    "# Load images and labels\n",
    "X, y = load_images(ai_data_path, real_data_path)\n",
    "\n",
    "# Split data into training and validation sets\n",
    "X_train, X_val, y_train, y_val = train_test_split(X, y, test_size=0.2, random_state=42, stratify=y)\n"
   ]
  },
  {
   "cell_type": "code",
   "execution_count": 5,
   "metadata": {},
   "outputs": [
    {
     "name": "stdout",
     "output_type": "stream",
     "text": [
      "Model: \"model\"\n",
      "_________________________________________________________________\n",
      " Layer (type)                Output Shape              Param #   \n",
      "=================================================================\n",
      " input_1 (InputLayer)        [(None, 224, 224, 3)]     0         \n",
      "                                                                 \n",
      " block1_conv1 (Conv2D)       (None, 224, 224, 64)      1792      \n",
      "                                                                 \n",
      " block1_conv2 (Conv2D)       (None, 224, 224, 64)      36928     \n",
      "                                                                 \n",
      " block1_pool (MaxPooling2D)  (None, 112, 112, 64)      0         \n",
      "                                                                 \n",
      " block2_conv1 (Conv2D)       (None, 112, 112, 128)     73856     \n",
      "                                                                 \n",
      " block2_conv2 (Conv2D)       (None, 112, 112, 128)     147584    \n",
      "                                                                 \n",
      " block2_pool (MaxPooling2D)  (None, 56, 56, 128)       0         \n",
      "                                                                 \n",
      " block3_conv1 (Conv2D)       (None, 56, 56, 256)       295168    \n",
      "                                                                 \n",
      " block3_conv2 (Conv2D)       (None, 56, 56, 256)       590080    \n",
      "                                                                 \n",
      " block3_conv3 (Conv2D)       (None, 56, 56, 256)       590080    \n",
      "                                                                 \n",
      " block3_pool (MaxPooling2D)  (None, 28, 28, 256)       0         \n",
      "                                                                 \n",
      " block4_conv1 (Conv2D)       (None, 28, 28, 512)       1180160   \n",
      "                                                                 \n",
      " block4_conv2 (Conv2D)       (None, 28, 28, 512)       2359808   \n",
      "                                                                 \n",
      " block4_conv3 (Conv2D)       (None, 28, 28, 512)       2359808   \n",
      "                                                                 \n",
      " block4_pool (MaxPooling2D)  (None, 14, 14, 512)       0         \n",
      "                                                                 \n",
      " block5_conv1 (Conv2D)       (None, 14, 14, 512)       2359808   \n",
      "                                                                 \n",
      " block5_conv2 (Conv2D)       (None, 14, 14, 512)       2359808   \n",
      "                                                                 \n",
      " block5_conv3 (Conv2D)       (None, 14, 14, 512)       2359808   \n",
      "                                                                 \n",
      " block5_pool (MaxPooling2D)  (None, 7, 7, 512)         0         \n",
      "                                                                 \n",
      " global_average_pooling2d (  (None, 512)               0         \n",
      " GlobalAveragePooling2D)                                         \n",
      "                                                                 \n",
      " batch_normalization (Batch  (None, 512)               2048      \n",
      " Normalization)                                                  \n",
      "                                                                 \n",
      " dropout (Dropout)           (None, 512)               0         \n",
      "                                                                 \n",
      " dense (Dense)               (None, 256)               131328    \n",
      "                                                                 \n",
      " dropout_1 (Dropout)         (None, 256)               0         \n",
      "                                                                 \n",
      " dense_1 (Dense)             (None, 1)                 257       \n",
      "                                                                 \n",
      "=================================================================\n",
      "Total params: 14848321 (56.64 MB)\n",
      "Trainable params: 132609 (518.00 KB)\n",
      "Non-trainable params: 14715712 (56.14 MB)\n",
      "_________________________________________________________________\n"
     ]
    }
   ],
   "source": [
    "# Build CNN model using VGG16 backbone for binary classification\n",
    "base_model = VGG16(weights='imagenet', include_top=False, input_shape=(224, 224, 3))\n",
    "x = base_model.output\n",
    "x = GlobalAveragePooling2D()(x)\n",
    "x = BatchNormalization()(x)\n",
    "x = Dropout(0.5)(x)\n",
    "x = Dense(256, activation='relu')(x)\n",
    "x = Dropout(0.5)(x)\n",
    "predictions = Dense(1, activation='sigmoid')(x)  # Binary classification layer with sigmoid activation\n",
    "\n",
    "model = Model(inputs=base_model.input, outputs=predictions)\n",
    "\n",
    "# Freeze the VGG16 base layers\n",
    "for layer in base_model.layers:\n",
    "    layer.trainable = False\n",
    "model.summary()"
   ]
  },
  {
   "cell_type": "code",
   "execution_count": 6,
   "metadata": {},
   "outputs": [],
   "source": [
    "# Compile the model\n",
    "model.compile(optimizer='adam', loss='binary_crossentropy', metrics=['accuracy'])\n"
   ]
  },
  {
   "cell_type": "code",
   "execution_count": 7,
   "metadata": {},
   "outputs": [],
   "source": [
    "# Training parameters\n",
    "batch_size = 32\n",
    "epochs = 20"
   ]
  },
  {
   "cell_type": "code",
   "execution_count": 8,
   "metadata": {},
   "outputs": [
    {
     "name": "stdout",
     "output_type": "stream",
     "text": [
      "Epoch 1/20\n",
      "73/73 [==============================] - 302s 4s/step - loss: 0.2517 - accuracy: 0.8953 - val_loss: 0.4576 - val_accuracy: 0.7362 - lr: 0.0010\n",
      "Epoch 2/20\n",
      "73/73 [==============================] - 335s 5s/step - loss: 0.1313 - accuracy: 0.9470 - val_loss: 0.2685 - val_accuracy: 0.9310 - lr: 0.0010\n",
      "Epoch 3/20\n",
      "73/73 [==============================] - 320s 4s/step - loss: 0.1047 - accuracy: 0.9565 - val_loss: 0.1534 - val_accuracy: 0.9672 - lr: 0.0010\n",
      "Epoch 4/20\n",
      "73/73 [==============================] - 325s 4s/step - loss: 0.0810 - accuracy: 0.9698 - val_loss: 0.1010 - val_accuracy: 0.9741 - lr: 0.0010\n",
      "Epoch 5/20\n",
      "73/73 [==============================] - 323s 4s/step - loss: 0.0933 - accuracy: 0.9638 - val_loss: 0.0746 - val_accuracy: 0.9793 - lr: 0.0010\n",
      "Epoch 6/20\n",
      "73/73 [==============================] - 321s 4s/step - loss: 0.0887 - accuracy: 0.9638 - val_loss: 0.0586 - val_accuracy: 0.9828 - lr: 0.0010\n",
      "Epoch 7/20\n",
      "73/73 [==============================] - 321s 4s/step - loss: 0.0620 - accuracy: 0.9724 - val_loss: 0.0616 - val_accuracy: 0.9828 - lr: 0.0010\n",
      "Epoch 8/20\n",
      "73/73 [==============================] - 321s 4s/step - loss: 0.0786 - accuracy: 0.9724 - val_loss: 0.0468 - val_accuracy: 0.9914 - lr: 0.0010\n",
      "Epoch 9/20\n",
      "73/73 [==============================] - 322s 4s/step - loss: 0.0772 - accuracy: 0.9677 - val_loss: 0.0461 - val_accuracy: 0.9845 - lr: 0.0010\n",
      "Epoch 10/20\n",
      "73/73 [==============================] - 330s 5s/step - loss: 0.0754 - accuracy: 0.9698 - val_loss: 0.0490 - val_accuracy: 0.9845 - lr: 0.0010\n",
      "Epoch 11/20\n",
      "73/73 [==============================] - 329s 5s/step - loss: 0.0554 - accuracy: 0.9789 - val_loss: 0.0486 - val_accuracy: 0.9828 - lr: 0.0010\n",
      "Epoch 12/20\n",
      "73/73 [==============================] - 328s 5s/step - loss: 0.0610 - accuracy: 0.9784 - val_loss: 0.0448 - val_accuracy: 0.9845 - lr: 0.0010\n",
      "Epoch 13/20\n",
      "73/73 [==============================] - 323s 4s/step - loss: 0.0496 - accuracy: 0.9828 - val_loss: 0.0568 - val_accuracy: 0.9828 - lr: 0.0010\n",
      "Epoch 14/20\n",
      "73/73 [==============================] - 323s 4s/step - loss: 0.0523 - accuracy: 0.9832 - val_loss: 0.0465 - val_accuracy: 0.9845 - lr: 0.0010\n",
      "Epoch 15/20\n",
      "73/73 [==============================] - 323s 4s/step - loss: 0.0661 - accuracy: 0.9746 - val_loss: 0.0594 - val_accuracy: 0.9828 - lr: 0.0010\n",
      "Epoch 16/20\n",
      "73/73 [==============================] - 320s 4s/step - loss: 0.0415 - accuracy: 0.9841 - val_loss: 0.0498 - val_accuracy: 0.9845 - lr: 5.0000e-04\n",
      "Epoch 17/20\n",
      "73/73 [==============================] - 328s 4s/step - loss: 0.0458 - accuracy: 0.9836 - val_loss: 0.0419 - val_accuracy: 0.9862 - lr: 5.0000e-04\n",
      "Epoch 18/20\n",
      "73/73 [==============================] - 327s 4s/step - loss: 0.0547 - accuracy: 0.9810 - val_loss: 0.0468 - val_accuracy: 0.9828 - lr: 5.0000e-04\n",
      "Epoch 19/20\n",
      "73/73 [==============================] - 324s 4s/step - loss: 0.0372 - accuracy: 0.9858 - val_loss: 0.0465 - val_accuracy: 0.9828 - lr: 5.0000e-04\n",
      "Epoch 20/20\n",
      "73/73 [==============================] - 325s 4s/step - loss: 0.0435 - accuracy: 0.9828 - val_loss: 0.0414 - val_accuracy: 0.9879 - lr: 5.0000e-04\n"
     ]
    }
   ],
   "source": [
    "# Training callbacks\n",
    "early_stopping = EarlyStopping(monitor='val_loss', patience=5, restore_best_weights=True)\n",
    "lr_scheduler = ReduceLROnPlateau(monitor='val_loss', patience=3, factor=0.5, min_lr=1e-6)\n",
    "\n",
    "# Train the model\n",
    "history = model.fit(X_train, y_train, validation_data=(X_val, y_val), \n",
    "                    batch_size=batch_size, epochs=epochs, \n",
    "                    callbacks=[early_stopping, lr_scheduler])"
   ]
  },
  {
   "cell_type": "code",
   "execution_count": null,
   "metadata": {},
   "outputs": [],
   "source": []
  },
  {
   "cell_type": "code",
   "execution_count": 9,
   "metadata": {},
   "outputs": [
    {
     "name": "stderr",
     "output_type": "stream",
     "text": [
      "C:\\Users\\Radheshyam\\anaconda3\\lib\\site-packages\\keras\\src\\engine\\training.py:3000: UserWarning: You are saving your model as an HDF5 file via `model.save()`. This file format is considered legacy. We recommend using instead the native Keras format, e.g. `model.save('my_model.keras')`.\n",
      "  saving_api.save_model(\n"
     ]
    }
   ],
   "source": [
    "# Save the trained model\n",
    "model.save('Image_part.h5')"
   ]
  },
  {
   "cell_type": "code",
   "execution_count": null,
   "metadata": {},
   "outputs": [],
   "source": []
  },
  {
   "cell_type": "code",
   "execution_count": null,
   "metadata": {},
   "outputs": [],
   "source": []
  },
  {
   "cell_type": "code",
   "execution_count": null,
   "metadata": {},
   "outputs": [],
   "source": []
  },
  {
   "cell_type": "code",
   "execution_count": 3,
   "metadata": {},
   "outputs": [],
   "source": [
    "# Load the saved model\n",
    "model = tf.keras.models.load_model('Image_part.h5')\n"
   ]
  },
  {
   "cell_type": "code",
   "execution_count": 4,
   "metadata": {},
   "outputs": [],
   "source": [
    "# Function to predict and classify the image\n",
    "def predict_image(model, image_path):\n",
    "    # Load and preprocess the image in one step\n",
    "    image = tf.keras.preprocessing.image.load_img(image_path, target_size=(224, 224))\n",
    "    image = tf.keras.preprocessing.image.img_to_array(image) / 255.0\n",
    "    image = np.expand_dims(image, axis=0)  # Add batch dimension for prediction\n",
    "\n",
    "    # Make prediction\n",
    "    prediction = model.predict(image)[0][0]  # Get the prediction value directly\n",
    "    label = \"AI-generated\" if prediction >= 0.5 else \"Real\"\n",
    "    print(f\"The image is predicted to be: {label}\")\n"
   ]
  },
  {
   "cell_type": "code",
   "execution_count": 5,
   "metadata": {},
   "outputs": [
    {
     "name": "stdout",
     "output_type": "stream",
     "text": [
      "1/1 [==============================] - 1s 807ms/step\n",
      "The image is predicted to be: Real\n"
     ]
    }
   ],
   "source": [
    "# Usage example\n",
    "predict_image(model, 'testImage.jpg')"
   ]
  },
  {
   "cell_type": "code",
   "execution_count": 6,
   "metadata": {
    "scrolled": true
   },
   "outputs": [
    {
     "name": "stdout",
     "output_type": "stream",
     "text": [
      "1/1 [==============================] - 0s 173ms/step\n",
      "The image is predicted to be: AI-generated\n"
     ]
    }
   ],
   "source": [
    "# Usage example\n",
    "predict_image(model, 'AiImage.png')"
   ]
  },
  {
   "cell_type": "code",
   "execution_count": null,
   "metadata": {},
   "outputs": [],
   "source": []
  }
 ],
 "metadata": {
  "kaggle": {
   "accelerator": "nvidiaTeslaT4",
   "dataSources": [
    {
     "datasetId": 5804119,
     "sourceId": 9530718,
     "sourceType": "datasetVersion"
    }
   ],
   "dockerImageVersionId": 30776,
   "isGpuEnabled": true,
   "isInternetEnabled": true,
   "language": "python",
   "sourceType": "notebook"
  },
  "kernelspec": {
   "display_name": "Python 3",
   "language": "python",
   "name": "python3"
  },
  "language_info": {
   "codemirror_mode": {
    "name": "ipython",
    "version": 3
   },
   "file_extension": ".py",
   "mimetype": "text/x-python",
   "name": "python",
   "nbconvert_exporter": "python",
   "pygments_lexer": "ipython3",
   "version": "3.8.8"
  }
 },
 "nbformat": 4,
 "nbformat_minor": 4
}
